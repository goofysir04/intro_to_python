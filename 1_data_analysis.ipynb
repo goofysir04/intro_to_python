{
 "cells": [
  {
   "cell_type": "markdown",
   "metadata": {},
   "source": [
    "# Intro to Python: Data Analysis\n",
    "Part of the SWEET Workshop series presented by the [IDEA Student Center at UC San Diego](http://www.jacobsschool.ucsd.edu/student/).\n",
    "\n",
    "### Goals\n",
    "Learn the basics of Python (the programming language) for data analysis:\n",
    "- loading data from a file\n",
    "- plotting\n",
    "- vectorized calculations\n",
    "\n",
    "### Requirements\n",
    "- python 2.7\n",
    "- ipython-notebook\n",
    "- numpy = for loading data and vectorized calculations\n",
    "- matplotlib = for plotting"
   ]
  },
  {
   "cell_type": "markdown",
   "metadata": {},
   "source": [
    "## 1) Loading packages\n",
    "Python is a general purpose language, which means it can be used for\n",
    "a wide variety of problems. However, that also means it is not set up\n",
    "automatically for engineering tasks (i.e. it's more like C/C++ than Matlab). Fortunately, Python has a great community and a large number\n",
    "of third-party packages have been created to allow users to solve engineering problems with Python (instead of Matlab). The two packages we'll focus on (which will help recreate most Matlab functionality) are:\n",
    "- [NumPy](http://www.numpy.org/)\n",
    "- [Matplotlib](http://matplotlib.org/)\n",
    "\n",
    "But first, we need to load these packages."
   ]
  },
  {
   "cell_type": "code",
   "execution_count": 2,
   "metadata": {
    "collapsed": false
   },
   "outputs": [
    {
     "name": "stdout",
     "output_type": "stream",
     "text": [
      "1.11.0\n"
     ]
    }
   ],
   "source": [
    "# to load a package in Python (assuming it's installed), use the built-in\n",
    "# ``import`` command\n",
    "\n",
    "# load NumPy\n",
    "import numpy\n",
    "\n",
    "# check the version of numpy\n",
    "print numpy.__version__"
   ]
  },
  {
   "cell_type": "code",
   "execution_count": 4,
   "metadata": {
    "collapsed": false
   },
   "outputs": [
    {
     "name": "stdout",
     "output_type": "stream",
     "text": [
      "3.14159265359\n",
      "1.0\n",
      "[ 1.  1.  1.  1.  1.]\n"
     ]
    }
   ],
   "source": [
    "# numpy has a lot of built-in code for performing common\n",
    "# math-related programming tasks\n",
    "\n",
    "# the value of pi\n",
    "print numpy.pi\n",
    "\n",
    "# cosine function\n",
    "print numpy.cos(0)\n",
    "\n",
    "# create a vector of ones\n",
    "print numpy.ones(5)"
   ]
  },
  {
   "cell_type": "markdown",
   "metadata": {},
   "source": [
    "At this point, you may already be tired of typing ``numpy`` over and over. Well, you're not the only one. Which is why Python's ``import`` command has extra options, including the ability to assign an alias for a package name."
   ]
  },
  {
   "cell_type": "code",
   "execution_count": 10,
   "metadata": {
    "collapsed": false
   },
   "outputs": [
    {
     "name": "stdout",
     "output_type": "stream",
     "text": [
      "1.11.0\n",
      "3.14159265359\n",
      "1.0\n"
     ]
    }
   ],
   "source": [
    "# load the numpy package, but refer to it by the alias ``np``\n",
    "import numpy as np\n",
    "\n",
    "# now whenever you type ``np``, Python knows you mean ``numpy``\n",
    "\n",
    "# check the numpy version\n",
    "print np.__version__\n",
    "\n",
    "# the value of pi\n",
    "print np.pi\n",
    "\n",
    "# sin(pi / 2)\n",
    "print np.sin(np.pi / 2.0)\n",
    "\n",
    "# Aaaawwww, so much nicer ^__^"
   ]
  },
  {
   "cell_type": "markdown",
   "metadata": {},
   "source": [
    "## 2) Loading data files\n",
    "Let's try to load data from a file using numpy."
   ]
  },
  {
   "cell_type": "code",
   "execution_count": null,
   "metadata": {
    "collapsed": true
   },
   "outputs": [],
   "source": [
    "# load the data file\n",
    "\n",
    "# split the data into variables\n",
    "\n",
    "# do some calculations\n"
   ]
  },
  {
   "cell_type": "markdown",
   "metadata": {},
   "source": [
    "## 3) Plotting data\n",
    "Now we'll create plots of the data we loaded above."
   ]
  },
  {
   "cell_type": "code",
   "execution_count": 11,
   "metadata": {
    "collapsed": false
   },
   "outputs": [
    {
     "name": "stderr",
     "output_type": "stream",
     "text": [
      "/Users/david/anaconda/envs/idea/lib/python2.7/site-packages/matplotlib/font_manager.py:273: UserWarning: Matplotlib is building the font cache using fc-list. This may take a moment.\n",
      "  warnings.warn('Matplotlib is building the font cache using fc-list. This may take a moment.')\n"
     ]
    }
   ],
   "source": [
    "# load a plotting library\n",
    "import matplotlib.pyplot as plt\n",
    "\n",
    "# make figures show up inside the notebook (instead of in\n",
    "# a separate window)\n",
    "%matplotlib inline"
   ]
  },
  {
   "cell_type": "code",
   "execution_count": 12,
   "metadata": {
    "collapsed": true
   },
   "outputs": [],
   "source": [
    "# plot the data\n"
   ]
  },
  {
   "cell_type": "code",
   "execution_count": 13,
   "metadata": {
    "collapsed": true
   },
   "outputs": [],
   "source": [
    "# improve the figure (colors, line styles, text)\n"
   ]
  },
  {
   "cell_type": "code",
   "execution_count": null,
   "metadata": {
    "collapsed": true
   },
   "outputs": [],
   "source": [
    "# compare the results (the data we loaded) to a theoretical\n",
    "# result described by an equation\n",
    "#\n",
    "# NOTE: due to time constraints, we will only compare\n",
    "# them visually (instead of using statistical metrics)\n"
   ]
  }
 ],
 "metadata": {
  "kernelspec": {
   "display_name": "Python 2",
   "language": "python",
   "name": "python2"
  },
  "language_info": {
   "codemirror_mode": {
    "name": "ipython",
    "version": 2
   },
   "file_extension": ".py",
   "mimetype": "text/x-python",
   "name": "python",
   "nbconvert_exporter": "python",
   "pygments_lexer": "ipython2",
   "version": "2.7.11"
  }
 },
 "nbformat": 4,
 "nbformat_minor": 0
}
